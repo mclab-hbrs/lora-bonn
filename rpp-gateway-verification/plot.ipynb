{
 "cells": [
  {
   "cell_type": "code",
   "execution_count": 1,
   "metadata": {},
   "outputs": [
    {
     "name": "stdout",
     "output_type": "stream",
     "text": [
      "TOTAL:100\n",
      "TOTAL:100\n",
      "TOTAL:100\n",
      "TOTAL:100\n",
      "TOTAL:100\n",
      "TOTAL:100\n"
     ]
    }
   ],
   "source": [
    "#!/usr/bin/python3\n",
    "import re\n",
    "import csv\n",
    "import sys\n",
    "import os\n",
    "import math\n",
    "import pandas as pd\n",
    "from math import sin, cos, sqrt, atan2, radians\n",
    "import numpy as np\n",
    "import matplotlib.pyplot as plt\n",
    "import seaborn as sns\n",
    "\n",
    "regex = r'^\\S+?,\\S+?,\\S+? \\S+?,\\S+? \\S+?,\\S+?,\\S+?,\\S+?,\\S+?,\\S+?,\\S+?,\\S+?,\\S+?,\\S+?,\\S+?,\\S+?,\\S+?,\\S+?,\\S+?,\\S+?,\\S+?,\\S+?,\\S+?,\\S+?,\\S+?,\\S+?,\\S+?,\\S+?,\\S+?,\\S+?,\\S+?,'\n",
    "\n",
    "# 14dB output \n",
    "output_power = 14\n",
    "systematic_error = 2+6\n",
    "\n",
    "# init empty arrays for the csv files. \n",
    "db5=[]\n",
    "db15=[]\n",
    "db25=[]\n",
    "db35=[]\n",
    "db45=[]\n",
    "db55=[]\n",
    "\n",
    "res_arrays = [db5, db15, db25, db35, db45, db55]\n",
    "count_array = 0\n",
    "for curFileName in ['5dB.csv','15dB.csv','25dB.csv','35dB.csv','45dB.csv','55dB.csv']:\n",
    "  file1 = open(curFileName,\"r\")\n",
    "  Lines = file1.readlines()\n",
    "  Lines = Lines[2:]  \n",
    "  for line in Lines:    \n",
    "    data = re.search(regex, line.strip())[0].split(',') \n",
    "    payload = data[6]    \n",
    "    sf = data[13]\n",
    "    number = data[15]\n",
    "    gw_id = data[19]\n",
    "    gw_rssi = data[20]\n",
    "    gw_snr = data[21]\n",
    "    if gw_id.upper() == \"00007076FF020EF7\":\n",
    "      res_arrays[count_array].append(float(gw_rssi) + min(float(gw_snr),0))\n",
    "        \n",
    "  count_array = count_array+1\n",
    "\n",
    "print(\"TOTAL:\" + str(len(db5)))\n",
    "print(\"TOTAL:\" + str(len(db15)))\n",
    "print(\"TOTAL:\" + str(len(db25)))\n",
    "print(\"TOTAL:\" + str(len(db35)))\n",
    "print(\"TOTAL:\" + str(len(db45)))\n",
    "print(\"TOTAL:\" + str(len(db55)))"
   ]
  },
  {
   "cell_type": "code",
   "execution_count": 2,
   "metadata": {
    "scrolled": true
   },
   "outputs": [
    {
     "name": "stdout",
     "output_type": "stream",
     "text": [
      "-78.72\n",
      "[0. 1. 2. 3. 4. 5.]\n"
     ]
    },
    {
     "data": {
      "text/plain": [
       "<AxesSubplot:xlabel='80 [dB] + Attenuation [dB]', ylabel='RPP [dB]'>"
      ]
     },
     "execution_count": 2,
     "metadata": {},
     "output_type": "execute_result"
    },
    {
     "data": {
      "image/png": "[encoded data removed]",
      "text/plain": [
       "<Figure size 576x288 with 1 Axes>"
      ]
     },
     "metadata": {
      "needs_background": "light"
     },
     "output_type": "display_data"
    }
   ],
   "source": [
    "from matplotlib.colors import ListedColormap\n",
    "from matplotlib.ticker import ScalarFormatter\n",
    "\n",
    "numberOfPlottingFeatures = 1\n",
    "colors = sns.color_palette(\"Blues\", numberOfPlottingFeatures)\n",
    "linestyles = ['-', '--', '-.', ':']\n",
    "\n",
    "props = dict(boxes=colors[0], whiskers=\"black\", medians=\"black\", caps=\"black\")\n",
    "medianprops = dict(linestyle=linestyles[0], linewidth=1, color='black')\n",
    "flierprops = dict(marker='o', markerfacecolor='white', markersize=3, linewidth=1, linestyle='none')\n",
    "\n",
    "fig, ax = plt.subplots(figsize=(8,4))\n",
    "\n",
    "sns.boxplot(data=res_arrays,ax=ax,medianprops=medianprops,flierprops=flierprops)\n",
    "plt.setp(ax.artists, edgecolor = 'k', facecolor='w')\n",
    "plt.setp(ax.lines, color='k')\n",
    "\n",
    "names = [\"5dB\",\"15dB\",\"25dB\",\"35dB\",\"45dB\",\"55dB\"]\n",
    "ax.set(xticklabels=names)\n",
    "ax.set_xlabel('80 [dB] + Attenuation [dB]')   \n",
    "ax.set_ylabel('RPP [dB]')\n",
    "\n",
    "#ax2 = ax.twinx()\n",
    "\n",
    "print(np.mean(db5))\n",
    "\n",
    "x_lin = np.linspace(0,5,6)\n",
    "y_lin = [output_power-systematic_error-80-5,  output_power-systematic_error-80-15, \n",
    "         output_power-systematic_error-80-25, output_power-systematic_error-80-35,\n",
    "         output_power-systematic_error-80-45, output_power-systematic_error-80-55]\n",
    "print(x_lin)\n",
    "\n",
    "sns.lineplot(x=x_lin,y=y_lin,ax=ax,color=colors[0], linewidth=2, label='Expectation')\n",
    "#ax2.set_ylim(0,7)"
   ]
  },
  {
   "cell_type": "code",
   "execution_count": null,
   "metadata": {},
   "outputs": [],
   "source": []
  }
 ],
 "metadata": {
  "kernelspec": {
   "display_name": "Python 3",
   "language": "python",
   "name": "python3"
  },
  "language_info": {
   "codemirror_mode": {
    "name": "ipython",
    "version": 3
   },
   "file_extension": ".py",
   "mimetype": "text/x-python",
   "name": "python",
   "nbconvert_exporter": "python",
   "pygments_lexer": "ipython3",
   "version": "3.8.8"
  },
  "toc": {
   "base_numbering": 1,
   "nav_menu": {},
   "number_sections": true,
   "sideBar": true,
   "skip_h1_title": false,
   "title_cell": "Table of Contents",
   "title_sidebar": "Contents",
   "toc_cell": false,
   "toc_position": {},
   "toc_section_display": true,
   "toc_window_display": false
  }
 },
 "nbformat": 4,
 "nbformat_minor": 4
}
